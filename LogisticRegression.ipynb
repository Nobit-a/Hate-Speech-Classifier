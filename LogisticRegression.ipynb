{
 "cells": [
  {
   "cell_type": "code",
   "execution_count": 11,
   "metadata": {},
   "outputs": [],
   "source": [
    "import random\n",
    "import pandas as pd\n",
    "import nltk\n",
    "from sklearn.feature_extraction.text import CountVectorizer\n",
    "from sklearn.linear_model import LogisticRegression\n",
    "from sklearn.svm import LinearSVC\n",
    "from sklearn.model_selection import train_test_split\n",
    "from sklearn import tree\n",
    "from sklearn import metrics\n",
    "from sklearn.metrics import classification_report\n",
    "import graphviz\n",
    "from string import punctuation\n",
    "from matplotlib import pyplot as plt\n",
    "\n",
    "\n"
   ]
  },
  {
   "cell_type": "code",
   "execution_count": 12,
   "metadata": {},
   "outputs": [],
   "source": [
    "wpt = nltk.WordPunctTokenizer()\n",
    "stop_words = nltk.corpus.stopwords.words('english')"
   ]
  },
  {
   "cell_type": "code",
   "execution_count": 3,
   "metadata": {},
   "outputs": [],
   "source": [
    "class LemmaTokenizer(object):\n",
    "\tdef __init__(self):\n",
    "\t\tself.wnl = nltk.stem.WordNetLemmatizer()\n",
    "\tdef __call__(self, doc):\n",
    "\t\treturn [self.wnl.lemmatize(t) for t in nltk.word_tokenize(doc)]\n"
   ]
  },
  {
   "cell_type": "code",
   "execution_count": 4,
   "metadata": {},
   "outputs": [],
   "source": [
    "df = pd.read_csv('Main.csv',encoding='latin1',keep_default_na=False);\n",
    "df = df[1:500];\n",
    "dfx = df['tweet'];\n",
    "dfy = df['class'];\n"
   ]
  },
  {
   "cell_type": "code",
   "execution_count": 5,
   "metadata": {},
   "outputs": [],
   "source": [
    "x_train, x_test, y_train, y_test = train_test_split(dfx, dfy, train_size = 0.8, test_size = 0.2, random_state = random.randrange(99999), shuffle = True)\n",
    "\n",
    "cv = CountVectorizer(tokenizer=LemmaTokenizer(), stop_words=stop_words, binary=True)\n",
    "cv_matrix_train = cv.fit_transform(x_train)\n",
    "vocab = cv.get_feature_names()\n"
   ]
  },
  {
   "cell_type": "code",
   "execution_count": 6,
   "metadata": {
    "scrolled": false
   },
   "outputs": [
    {
     "name": "stdout",
     "output_type": "stream",
     "text": [
      "Training Accuracy 0.9966205992131545\n",
      "Training Confusion = [[ 1092     7     0]\n",
      " [   51 15340     4]\n",
      " [    1     4  3327]]\n",
      "             precision    recall  f1-score   support\n",
      "\n",
      "          0       0.99      0.95      0.97      1144\n",
      "          1       1.00      1.00      1.00     15351\n",
      "          2       1.00      1.00      1.00      3331\n",
      "\n",
      "avg / total       1.00      1.00      1.00     19826\n",
      "\n",
      "========================================================\n",
      "Test Accuracy 0.8874319144643937\n",
      "Test Confusion = [[  85  101   11]\n",
      " [ 178 3618  125]\n",
      " [  23  120  696]]\n",
      "             precision    recall  f1-score   support\n",
      "\n",
      "          0       0.43      0.30      0.35       286\n",
      "          1       0.92      0.94      0.93      3839\n",
      "          2       0.83      0.84      0.83       832\n",
      "\n",
      "avg / total       0.88      0.89      0.88      4957\n",
      "\n"
     ]
    }
   ],
   "source": [
    "\n",
    "cv_matrix_train = cv_matrix_train.toarray()\n",
    "cv_matrix_test =  cv.transform(x_test)\n",
    "\n",
    "clf = LinearSVC();\n",
    "clf.fit(cv_matrix_train, y_train);\n",
    "y_pred_train = clf.predict(cv_matrix_train)\n",
    "y_pred_test = clf.predict(cv_matrix_test)\n",
    "print('Training Accuracy {}'.format(clf.score(cv_matrix_train, y_train)))\n",
    "\n",
    "cmtrain = metrics.confusion_matrix(y_pred_train, y_train);\n",
    "cmtest = metrics.confusion_matrix(y_pred_test, y_test);\n",
    "\n",
    "print('Training Confusion = {}'.format(cmtrain))\n",
    "print(classification_report(y_train, y_pred_train))\n",
    "print('========================================================')\n",
    "print('Test Accuracy {}'.format(clf.score(cv_matrix_test, y_test)))\n",
    "print('Test Confusion = {}'.format(cmtest))\n",
    "print(classification_report(y_test, y_pred_test))\n",
    "\n",
    "\n",
    "\n",
    "\n"
   ]
  },
  {
   "cell_type": "code",
   "execution_count": 13,
   "metadata": {},
   "outputs": [
    {
     "data": {
      "text/plain": [
       "<matplotlib.image.AxesImage at 0x22908455ac8>"
      ]
     },
     "execution_count": 13,
     "metadata": {},
     "output_type": "execute_result"
    },
    {
     "data": {
      "image/png": "[encoded data removed]",
      "text/plain": [
       "<Figure size 288x288 with 1 Axes>"
      ]
     },
     "metadata": {
      "needs_background": "light"
     },
     "output_type": "display_data"
    },
    {
     "data": {
      "image/png": "[encoded data removed]",
      "text/plain": [
       "<Figure size 288x288 with 1 Axes>"
      ]
     },
     "metadata": {
      "needs_background": "light"
     },
     "output_type": "display_data"
    }
   ],
   "source": [
    "\n"
   ]
  },
  {
   "cell_type": "code",
   "execution_count": null,
   "metadata": {},
   "outputs": [],
   "source": []
  },
  {
   "cell_type": "code",
   "execution_count": null,
   "metadata": {},
   "outputs": [],
   "source": []
  },
  {
   "cell_type": "code",
   "execution_count": null,
   "metadata": {},
   "outputs": [],
   "source": []
  },
  {
   "cell_type": "code",
   "execution_count": null,
   "metadata": {},
   "outputs": [],
   "source": []
  },
  {
   "cell_type": "code",
   "execution_count": null,
   "metadata": {},
   "outputs": [],
   "source": []
  }
 ],
 "metadata": {
  "kernelspec": {
   "display_name": "Python 3",
   "language": "python",
   "name": "python3"
  },
  "language_info": {
   "codemirror_mode": {
    "name": "ipython",
    "version": 3
   },
   "file_extension": ".py",
   "mimetype": "text/x-python",
   "name": "python",
   "nbconvert_exporter": "python",
   "pygments_lexer": "ipython3",
   "version": "3.7.0"
  }
 },
 "nbformat": 4,
 "nbformat_minor": 2
}
